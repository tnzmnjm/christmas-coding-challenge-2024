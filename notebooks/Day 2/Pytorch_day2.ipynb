{
  "nbformat": 4,
  "nbformat_minor": 0,
  "metadata": {
    "colab": {
      "provenance": [],
      "mount_file_id": "10xCthdT-_r5AX7XyImcx6dfBNdIys_32",
      "authorship_tag": "ABX9TyOeVu9N//FJSdYfJIPePuqh",
      "include_colab_link": true
    },
    "kernelspec": {
      "name": "python3",
      "display_name": "Python 3"
    },
    "language_info": {
      "name": "python"
    }
  },
  "cells": [
    {
      "cell_type": "markdown",
      "metadata": {
        "id": "view-in-github",
        "colab_type": "text"
      },
      "source": [
        "<a href=\"https://colab.research.google.com/github/tnzmnjm/christmas-coding-challenge-2024/blob/main/notebooks/Day%202/Pytorch_day2.ipynb\" target=\"_parent\"><img src=\"https://colab.research.google.com/assets/colab-badge.svg\" alt=\"Open In Colab\"/></a>"
      ]
    },
    {
      "cell_type": "code",
      "execution_count": 1,
      "metadata": {
        "id": "i4umJydRUU_s"
      },
      "outputs": [],
      "source": [
        "import torch"
      ]
    },
    {
      "cell_type": "markdown",
      "source": [
        "A.2 Understanding tensors\n",
        "\n",
        "Tensors represent a mathematical concept that generalises vectors and matrices to potentially higher dimensions. In other words, tensors are mathematical objects that can be characterized by their order (or rank), which provides the number of dimensions. For example, a scalar (just a number) is a tensor of rank 0, a vector is a tensor of rank 1, and a matrix is a tensor of rank 2.\n",
        "\n",
        "From a computational perspective, tensors serve as data containers. For instance, they hold multidimensional data, where each dimension represents a different feature. Tensor libraries like PyTorch can create, manipulate, and compute with these arrays efficiently. In this context, a tensor library functions as an array library.\n",
        "\n",
        "PyTorch tensors are similar to NumPy arrays but have several additional features that are important for deep learning. For example, PyTorch adds an automatic differentiation engine, simplifying computing gradients (see section A.4). PyTorch tensors also support GPU computations to speed up deep neural network training (see section A.8).\n",
        "\n",
        "PyTorch adopts most of the NumPy array API and syntax for its tensor operations.\n",
        "\n",
        "[Scientific Computing in Python: Introduction to NumPy and Matplotlib](https://colab.research.google.com/drive/10xCthdT-_r5AX7XyImcx6dfBNdIys_32#scrollTo=SGmwe13TqUtu&line=9&uniqifier=1)"
      ],
      "metadata": {
        "id": "SGmwe13TqUtu"
      }
    },
    {
      "cell_type": "markdown",
      "source": [
        "A.2.1 Scalars, vectors, matrices, and tensors\n",
        "\n",
        "As mentioned earlier, PyTorch tensors are data containers for array-like structures.\n",
        "\n",
        "Tensors can be a :\n",
        "\n",
        "1.   scalers --> a zero-dimensional tensor (an integer 5)\n",
        "2.   vecor --> one-dimensional tensor\n",
        "3.   matrix --> two-dimensional tensor\n",
        "4.   no specific name for higher-dimensional tensors (3D, 4D, ...)\n",
        "\n",
        "\n",
        "We can create objects of PyTorch’s `Tensor` class using the `torch.tensor` function as shown in the following listing.\n",
        "\n"
      ],
      "metadata": {
        "id": "AKNxr6DP0QCP"
      }
    },
    {
      "cell_type": "code",
      "source": [
        "# Scalar (0D): A single number (e.g., 5). Creates a zero-dimensional tensor (scalar) from a Python integer.\n",
        "# Tensor equivalent: Shape is (), no dimensions.\n",
        "scaler = torch.tensor(5)\n",
        "print(scaler)\n",
        "print(scaler.shape)"
      ],
      "metadata": {
        "colab": {
          "base_uri": "https://localhost:8080/"
        },
        "id": "WKzP_8bP0Lvt",
        "outputId": "587b427d-9b11-410b-c79d-280511752be0"
      },
      "execution_count": 5,
      "outputs": [
        {
          "output_type": "stream",
          "name": "stdout",
          "text": [
            "tensor(5)\n",
            "torch.Size([])\n"
          ]
        }
      ]
    },
    {
      "cell_type": "code",
      "source": [
        "# Vector (1D): A 1D array of numbers (e.g., [1, 2, 3]).\n",
        "# Tensor equivalent: Shape (n,).\n",
        "# Creates a one-dimensional tensor (vector) from a Python list\n",
        "vector = torch.tensor([1,2,3])\n",
        "print(vector)\n",
        "print(vector.shape)"
      ],
      "metadata": {
        "colab": {
          "base_uri": "https://localhost:8080/"
        },
        "id": "io6EfNmlrvx5",
        "outputId": "4aaf5fb4-c168-459f-b02d-227609b5c663"
      },
      "execution_count": 12,
      "outputs": [
        {
          "output_type": "stream",
          "name": "stdout",
          "text": [
            "tensor([1, 2, 3])\n",
            "torch.Size([3])\n"
          ]
        }
      ]
    },
    {
      "cell_type": "code",
      "source": [
        "# Matrix (2D): A 2D array of numbers (e.g., a table or grid).\n",
        "# Tensor equivalent: Shape (n, m).\n",
        "# Creates a two-dimensional tensor from a nested Python list\n",
        "matrix = torch.tensor([[1,2], [3,4]])\n",
        "print(matrix)\n",
        "print(matrix.shape)"
      ],
      "metadata": {
        "colab": {
          "base_uri": "https://localhost:8080/"
        },
        "id": "ygrevHQ-4JXH",
        "outputId": "6eb01241-5509-48b9-eed7-8f9d64168473"
      },
      "execution_count": 8,
      "outputs": [
        {
          "output_type": "stream",
          "name": "stdout",
          "text": [
            "tensor([[1, 2],\n",
            "        [3, 4]])\n",
            "torch.Size([2, 2])\n"
          ]
        }
      ]
    },
    {
      "cell_type": "code",
      "source": [
        "# Higher-dimensional Tensors (nD): Generalised arrays. For example, a 3D tensor can represent a stack of matrices (e.g., for RGB images).\n",
        "# Tensor equivalent: Shape (d1, d2, ..., dn).\n",
        "# Creates a three-dimensional tensor from a nested Python list\n",
        "tensor_3d = torch.tensor([[[1, 2], [3, 4]], [[5, 6], [7, 8]]])\n",
        "print(tensor_3d)\n",
        "print(tensor_3d.shape)"
      ],
      "metadata": {
        "colab": {
          "base_uri": "https://localhost:8080/"
        },
        "id": "y7eeGDDA48PL",
        "outputId": "470d6be4-3a61-4587-9860-fc971721f4b6"
      },
      "execution_count": 9,
      "outputs": [
        {
          "output_type": "stream",
          "name": "stdout",
          "text": [
            "tensor([[[1, 2],\n",
            "         [3, 4]],\n",
            "\n",
            "        [[5, 6],\n",
            "         [7, 8]]])\n",
            "torch.Size([2, 2, 2])\n"
          ]
        }
      ]
    },
    {
      "cell_type": "markdown",
      "source": [
        "A.2.2 Tensor data types\n",
        "\n",
        "PyTorch adopts the default 64-bit integer data type from Python. We can access the data type of a tensor via the `.dtype` attribute of a tensor:"
      ],
      "metadata": {
        "id": "KRn0XeMa6P7O"
      }
    },
    {
      "cell_type": "code",
      "source": [
        "print(scaler.dtype)\n",
        "print(vector.dtype)\n",
        "print(matrix.dtype)\n",
        "print(tensor_3d.dtype)"
      ],
      "metadata": {
        "colab": {
          "base_uri": "https://localhost:8080/"
        },
        "id": "SoTlmqRr6TjG",
        "outputId": "181f6de3-7ca2-4532-cd9b-00edc7efaa1c"
      },
      "execution_count": 13,
      "outputs": [
        {
          "output_type": "stream",
          "name": "stdout",
          "text": [
            "torch.int64\n",
            "torch.int64\n",
            "torch.int64\n",
            "torch.int64\n"
          ]
        }
      ]
    },
    {
      "cell_type": "markdown",
      "source": [
        "If we create tensors from Python floats, PyTorch creates tensors with a 32-bit precision by default:"
      ],
      "metadata": {
        "id": "epiGJZOX6qSF"
      }
    },
    {
      "cell_type": "code",
      "source": [
        "float_vector = torch.tensor([1.2, 3.5, 6.7])\n",
        "print(float_vector.dtype)"
      ],
      "metadata": {
        "colab": {
          "base_uri": "https://localhost:8080/"
        },
        "id": "s8qoWsfp6tYz",
        "outputId": "ba83b713-5830-457b-b0ea-3cf7eef682e2"
      },
      "execution_count": 14,
      "outputs": [
        {
          "output_type": "stream",
          "name": "stdout",
          "text": [
            "torch.float32\n"
          ]
        }
      ]
    },
    {
      "cell_type": "markdown",
      "source": [
        "This choice is primarily due to the balance between precision and computational efficiency. A 32-bit floating-point number offers sufficient precision for most deep learning tasks while consuming less memory and computational resources than a 64-bit floating-point number. Moreover, GPU architectures are optimized for 32-bit computations, and using this data type can significantly speed up model training and inference.\n",
        "\n",
        "Moreover, it is possible to change the precision using a tensor’s `.to` method. The following code demonstrates this by changing a 64-bit integer tensor into a 32-bit float tensor:"
      ],
      "metadata": {
        "id": "vw_y1AVf7FyU"
      }
    },
    {
      "cell_type": "code",
      "source": [
        "floatvector = vector.to(torch.float32)\n",
        "print(floatvector.dtype)"
      ],
      "metadata": {
        "colab": {
          "base_uri": "https://localhost:8080/"
        },
        "id": "Ip-1NNW17Ja0",
        "outputId": "eb7bf499-6c74-4c7a-d530-f77c57ecac27"
      },
      "execution_count": 15,
      "outputs": [
        {
          "output_type": "stream",
          "name": "stdout",
          "text": [
            "torch.float32\n"
          ]
        }
      ]
    },
    {
      "cell_type": "markdown",
      "source": [
        "For more information about different tensor data types available in PyTorch, check the official documentation at https://pytorch.org/docs/stable/tensors.html."
      ],
      "metadata": {
        "id": "Oyuxly_Y7wt3"
      }
    }
  ]
}